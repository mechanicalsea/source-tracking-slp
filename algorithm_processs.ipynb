{
 "cells": [
  {
   "cell_type": "code",
   "execution_count": 1,
   "metadata": {
    "collapsed": true
   },
   "outputs": [],
   "source": [
    "from src.system_env import System\n",
    "from src.RL_brain import DeepQNetwork, QLearningTable\n",
    "from src.random_walk_brain import RandomWalk\n",
    "from src.supervised_brain import QLearningSupervisedNeuralNetwork\n",
    "\n",
    "import sys\n",
    "import time\n",
    "import numpy as np\n",
    "import pandas as pd\n",
    "import matplotlib.pyplot as plt\n",
    "from sklearn.neural_network import MLPClassifier"
   ]
  },
  {
   "cell_type": "code",
   "execution_count": 2,
   "metadata": {
    "collapsed": true,
    "scrolled": true
   },
   "outputs": [],
   "source": [
    "def update(iteration_max=100, links_clf=None):\n",
    "    dtimes = []\n",
    "    for episode in range(iteration_max):\n",
    "        sys.stdout.flush()\n",
    "        # initial observation\n",
    "        observation = env.reset()\n",
    "        ite_cnt = 0\n",
    "        while True:\n",
    "            ite_cnt += 1\n",
    "            # fresh env\n",
    "            env.render()\n",
    "            # RL choose action based on observation\n",
    "            if not links_clf:\n",
    "                action = RL.choose_action(observation)\n",
    "            else:\n",
    "                action = RL.choose_action(observation,\n",
    "                                          links_clf.predict_proba(observation.reshape(-1,int(env.n_features/env.n_actions)))[:,1])\n",
    "\n",
    "            # RL take action and get next observation and reward\n",
    "            observation_, reward, done = env.step(action)\n",
    "            # RL learn from this transition\n",
    "            RL.store_transition(observation, action, reward, observation_)\n",
    "            if hasattr(RL, 'memory_counter'):\n",
    "                if ite_cnt % 5 == 0 and RL.memory_counter > 200:\n",
    "                    RL.learn()\n",
    "            else:\n",
    "                RL.learn(observation, action, reward, done, observation_) # for QLearningTable\n",
    "            if episode > 0:\n",
    "                print(\"\\rStep %5d @ Episode %3d/%3d (%5d/%5d)\" % (ite_cnt, episode + 1, iteration_max, \n",
    "                                                                 dtimes[-1], min(dtimes)), end=\"\")    \n",
    "            else:\n",
    "                print(\"\\rStep %d @ Episode %d/%d\" % (ite_cnt, episode + 1, iteration_max), end=\"\")    \n",
    "            # swap observation\n",
    "            observation = observation_\n",
    "            # break while loop when end of this episode\n",
    "            if done:# or ite_cnt > 10000:\n",
    "                break    \n",
    "        dtimes.append(ite_cnt)\n",
    "    # end of game\n",
    "    print('game over\\n')\n",
    "    env.destroy()\n",
    "    if hasattr(RL, 'cost_his'):\n",
    "        return dtimes, RL.cost_his\n",
    "    return dtimes, []"
   ]
  },
  {
   "cell_type": "code",
   "execution_count": 3,
   "metadata": {
    "collapsed": true
   },
   "outputs": [],
   "source": [
    "output_dtimes, output_losses = [], []"
   ]
  },
  {
   "cell_type": "code",
   "execution_count": 4,
   "metadata": {},
   "outputs": [
    {
     "name": "stdout",
     "output_type": "stream",
     "text": [
      "backbone: [0, 1, 21, 22, 23, 24, 25, 26, 27, 28, 48, 49, 69, 70, 90, 91, 111, 112, 132, 133, 134, 154, 174, 175, 195, 215, 235, 236, 237, 238, 258, 259, 279, 299, 319, 339, 359, 379, 399]\n",
      "fake node: [3, 5, 6, 7, 8, 9, 13, 15, 19, 20, 33, 37, 39, 51, 52, 53, 61, 72, 75, 76, 79, 81, 86, 87, 94, 96, 97, 98, 101, 105, 106, 108, 109, 113, 119, 120, 124, 125, 136, 138, 140, 142, 143, 148, 150, 161, 168, 183, 185, 188, 189, 196, 197, 203, 204, 205, 210, 211, 212, 214, 217, 218, 223, 227, 234, 243, 245, 248, 252, 257, 260, 261, 264, 265, 268, 269, 270, 273, 274, 276, 278, 283, 285, 287, 288, 289, 293, 297, 301, 302, 304, 305, 307, 309, 311, 314, 320, 325, 326, 328, 329, 333, 338, 342, 343, 346, 347, 354, 358, 362, 363, 365, 366, 368, 370, 373, 374, 388, 389, 391]\n"
     ]
    }
   ],
   "source": [
    "env = System(system_h=20, system_w=20, system_fake=0.3)"
   ]
  },
  {
   "cell_type": "code",
   "execution_count": null,
   "metadata": {
    "collapsed": true
   },
   "outputs": [],
   "source": [
    "#     X = np.vstack((env.fake_observations, env.normal_observations))\n",
    "#     y = np.hstack((np.zeros(env.fake_observations.shape[0]), np.ones(env.normal_observations.shape[0])))\n",
    "#     X, y = shuffle(X, y)\n",
    "#     clf = MLPClassifier(hidden_layer_sizes=(10,), activation='relu', solver='adam', \n",
    "#                         alpha=0.01, batch_size='auto', learning_rate='constant', \n",
    "#                         learning_rate_init=0.001, power_t=0.5, max_iter=2000, shuffle=True, \n",
    "#                         random_state=None, tol=0.0001, verbose=False, warm_start=False, \n",
    "#                         momentum=0.9, nesterovs_momentum=True, early_stopping=False, \n",
    "#                         validation_fraction=0.1, beta_1=0.9, beta_2=0.999, epsilon=1e-08)\n",
    "#     clf.fit(X, y)"
   ]
  },
  {
   "cell_type": "code",
   "execution_count": 5,
   "metadata": {},
   "outputs": [],
   "source": [
    "# Q-learning\n",
    "RL = DeepQNetwork(env.n_actions, env.n_features, reward_decay=0.9, epsilon=0.9, e_greedy_increment=None,\n",
    "                  replace_target_iter=300, memory_size=10000, batch_size=500)\n",
    "# RL = QLearningTable(actions=list(range(env.n_actions)), learning_rate=0.5, reward_decay=0.9, epsilon=0.1)"
   ]
  },
  {
   "cell_type": "code",
   "execution_count": null,
   "metadata": {},
   "outputs": [
    {
     "name": "stdout",
     "output_type": "stream",
     "text": [
      "Epoch 0\n",
      "Step   566 @ Episode 100/100 ( 1166/  167)game over\n",
      "\n",
      "It takes 1267.4045870304108 s\n",
      "Epoch 1\n",
      "Step   577 @ Episode 100/100 (  456/  163)game over\n",
      "\n",
      "It takes 701.9088673591614 s\n",
      "Epoch 2\n",
      "Step  1167 @ Episode 100/100 ( 1311/  158)game over\n",
      "\n",
      "It takes 687.5665345191956 s\n",
      "Epoch 3\n",
      "Step  1257 @ Episode 100/100 ( 1995/  166)game over\n",
      "\n",
      "It takes 733.1808364391327 s\n",
      "Epoch 4\n",
      "Step 25897 @ Episode  73/100 (  264/  200)"
     ]
    }
   ],
   "source": [
    "eposide_max = 5\n",
    "for i in range(eposide_max):\n",
    "    print('Epoch {}'.format(i))\n",
    "    start_clock = time.time()\n",
    "    dtimes, losses = update(100)\n",
    "    output_dtimes.append(dtimes)\n",
    "    output_losses.append(losses)\n",
    "    end_clock = time.time()\n",
    "    print('It takes {} s'.format(end_clock - start_clock))"
   ]
  },
  {
   "cell_type": "code",
   "execution_count": null,
   "metadata": {
    "scrolled": true
   },
   "outputs": [],
   "source": [
    "start_clock = time.time()\n",
    "dtimes, losses = update(100)\n",
    "output_dtimes.append(dtimes)\n",
    "output_losses.append(losses)\n",
    "end_clock = time.time()\n",
    "print('It takes {} s'.format(end_clock - start_clock))"
   ]
  },
  {
   "cell_type": "code",
   "execution_count": null,
   "metadata": {
    "collapsed": true
   },
   "outputs": [],
   "source": [
    "RL.reset()"
   ]
  },
  {
   "cell_type": "code",
   "execution_count": null,
   "metadata": {
    "collapsed": true
   },
   "outputs": [],
   "source": [
    "df = pd.DataFrame.from_dict(RL.q_table, orient='index')\n",
    "print(df.shape)\n",
    "print(df.max())\n",
    "print(df.sum(axis=0))\n",
    "df"
   ]
  },
  {
   "cell_type": "code",
   "execution_count": null,
   "metadata": {
    "collapsed": true
   },
   "outputs": [],
   "source": [
    "result_dtimes = np.array(output_dtimes).T\n",
    "# pd.DataFrame(result_dtimes, columns=['experiment_9']) \\\n",
    "#   .to_csv('results/DQN25_0.3_10_500_0.5_0.1_exp9(28min).csv',index=False)"
   ]
  },
  {
   "cell_type": "code",
   "execution_count": null,
   "metadata": {},
   "outputs": [],
   "source": [
    "plt.figure(figsize=(12, 7))\n",
    "result_dtimes = np.array(output_dtimes).T\n",
    "num = 20\n",
    "plt.subplot(211)\n",
    "pdt = []\n",
    "for i,dt in enumerate(result_dtimes.T):\n",
    "    pdt.extend(list(dt))\n",
    "#     plt.semilogy([np.mean(dt[i:i+num]) for i in range(len(dt)-num)], label='exp {}'.format(i))\n",
    "plt.semilogy([np.mean(pdt[i:i+num]) for i in range(len(pdt)-num)], label='exp')\n",
    "plt.xlabel('epoch')\n",
    "plt.ylabel('iterations')\n",
    "plt.legend(ncol=2)\n",
    "# plt.savefig('figures/DQN25_0.3_10_500_0.5_0.1_exp9(28min).png', dpi=300)\n",
    "# plt.show()\n",
    "result_losses = output_losses[-1:]\n",
    "num = 100\n",
    "plt.subplot(212)\n",
    "pss = []\n",
    "for i,losses in enumerate(result_losses):\n",
    "    pss.extend(list(losses))\n",
    "#     plt.semilogy(losses, '-')\n",
    "plt.semilogy(pss)#([np.mean(pss[i:i+num]) for i in range(len(pss)-num)])\n",
    "plt.xlabel('epoch')\n",
    "plt.ylabel('loss')\n",
    "# plt.savefig('figures/_1000+.png', dpi=300)\n",
    "plt.show()"
   ]
  },
  {
   "cell_type": "code",
   "execution_count": null,
   "metadata": {
    "collapsed": true
   },
   "outputs": [],
   "source": []
  }
 ],
 "metadata": {
  "kernelspec": {
   "display_name": "Python 3",
   "language": "python",
   "name": "python3"
  },
  "language_info": {
   "codemirror_mode": {
    "name": "ipython",
    "version": 3
   },
   "file_extension": ".py",
   "mimetype": "text/x-python",
   "name": "python",
   "nbconvert_exporter": "python",
   "pygments_lexer": "ipython3",
   "version": "3.5.3"
  }
 },
 "nbformat": 4,
 "nbformat_minor": 1
}
