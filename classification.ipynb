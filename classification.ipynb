{
 "cells": [
  {
   "cell_type": "code",
   "execution_count": 2,
   "metadata": {
    "collapsed": true
   },
   "outputs": [],
   "source": [
    "from src.system_env import System\n",
    "import sys\n",
    "\n",
    "import numpy as np\n",
    "import matplotlib.pyplot as plt\n",
    "import pandas as pd\n",
    "\n",
    "from sklearn.model_selection import cross_val_predict\n",
    "from sklearn.neural_network import MLPClassifier\n",
    "from sklearn.utils import shuffle\n",
    "from sklearn.metrics import confusion_matrix, classification_report\n",
    "from sklearn.metrics import f1_score\n",
    "from sklearn.metrics import mean_squared_error\n",
    "\n",
    "from sklearn.decomposition import PCA\n",
    "from sklearn.preprocessing import StandardScaler\n",
    "\n",
    "from scipy import stats\n",
    "\n",
    "from sklearn.semi_supervised import label_propagation"
   ]
  },
  {
   "cell_type": "code",
   "execution_count": 3,
   "metadata": {},
   "outputs": [
    {
     "name": "stdout",
     "output_type": "stream",
     "text": [
      "backbone: [0, 1, 11, 21, 31, 32, 42, 52, 62, 63, 64, 65, 66, 76, 86, 87, 88, 98, 99]\n",
      "fake node: [4, 13, 16, 54, 69, 92, 93, 94, 96, 97]\n"
     ]
    }
   ],
   "source": [
    "env = System(system_h=10, system_w=10, system_fake=0.1)\n",
    "X = np.vstack((env.fake_observations, env.normal_observations))\n",
    "y = np.hstack((np.zeros(env.fake_observations.shape[0]), np.ones(env.normal_observations.shape[0])))"
   ]
  },
  {
   "cell_type": "code",
   "execution_count": 4,
   "metadata": {
    "collapsed": true
   },
   "outputs": [],
   "source": [
    "X, y = shuffle(X, y)"
   ]
  },
  {
   "cell_type": "code",
   "execution_count": 5,
   "metadata": {},
   "outputs": [
    {
     "data": {
      "text/html": [
       "<div>\n",
       "<style>\n",
       "    .dataframe thead tr:only-child th {\n",
       "        text-align: right;\n",
       "    }\n",
       "\n",
       "    .dataframe thead th {\n",
       "        text-align: left;\n",
       "    }\n",
       "\n",
       "    .dataframe tbody tr th {\n",
       "        vertical-align: top;\n",
       "    }\n",
       "</style>\n",
       "<table border=\"1\" class=\"dataframe\">\n",
       "  <thead>\n",
       "    <tr style=\"text-align: right;\">\n",
       "      <th></th>\n",
       "      <th>0</th>\n",
       "      <th>1</th>\n",
       "    </tr>\n",
       "  </thead>\n",
       "  <tbody>\n",
       "    <tr>\n",
       "      <th>count</th>\n",
       "      <td>8.000000e+04</td>\n",
       "      <td>8.000000e+04</td>\n",
       "    </tr>\n",
       "    <tr>\n",
       "      <th>mean</th>\n",
       "      <td>-1.936867e-16</td>\n",
       "      <td>-1.551458e-15</td>\n",
       "    </tr>\n",
       "    <tr>\n",
       "      <th>std</th>\n",
       "      <td>1.868914e+00</td>\n",
       "      <td>1.499084e+00</td>\n",
       "    </tr>\n",
       "    <tr>\n",
       "      <th>min</th>\n",
       "      <td>-2.725518e+00</td>\n",
       "      <td>-4.732925e+00</td>\n",
       "    </tr>\n",
       "    <tr>\n",
       "      <th>25%</th>\n",
       "      <td>-1.984868e+00</td>\n",
       "      <td>-6.573902e-01</td>\n",
       "    </tr>\n",
       "    <tr>\n",
       "      <th>50%</th>\n",
       "      <td>6.469899e-01</td>\n",
       "      <td>-5.116416e-01</td>\n",
       "    </tr>\n",
       "    <tr>\n",
       "      <th>75%</th>\n",
       "      <td>1.654371e+00</td>\n",
       "      <td>-1.535291e-01</td>\n",
       "    </tr>\n",
       "    <tr>\n",
       "      <th>max</th>\n",
       "      <td>6.726038e+00</td>\n",
       "      <td>4.746936e+00</td>\n",
       "    </tr>\n",
       "  </tbody>\n",
       "</table>\n",
       "</div>"
      ],
      "text/plain": [
       "                  0             1\n",
       "count  8.000000e+04  8.000000e+04\n",
       "mean  -1.936867e-16 -1.551458e-15\n",
       "std    1.868914e+00  1.499084e+00\n",
       "min   -2.725518e+00 -4.732925e+00\n",
       "25%   -1.984868e+00 -6.573902e-01\n",
       "50%    6.469899e-01 -5.116416e-01\n",
       "75%    1.654371e+00 -1.535291e-01\n",
       "max    6.726038e+00  4.746936e+00"
      ]
     },
     "execution_count": 5,
     "metadata": {},
     "output_type": "execute_result"
    }
   ],
   "source": [
    "pd.DataFrame(X).describe()"
   ]
  },
  {
   "cell_type": "code",
   "execution_count": 6,
   "metadata": {},
   "outputs": [
    {
     "data": {
      "image/png": "[encoded data removed]",
      "text/plain": [
       "<matplotlib.figure.Figure at 0x2850337e898>"
      ]
     },
     "metadata": {},
     "output_type": "display_data"
    }
   ],
   "source": [
    "X_, y_ = X.copy(), y.copy()\n",
    "plt.figure(figsize=(6,5))\n",
    "plt.scatter(X_[y_==0,0], X_[y_==0,1], label='neptune')\n",
    "plt.scatter(X_[y_==1,0], X_[y_==1,1], label='normal')\n",
    "plt.legend()\n",
    "plt.show()"
   ]
  },
  {
   "cell_type": "code",
   "execution_count": 7,
   "metadata": {
    "scrolled": true
   },
   "outputs": [
    {
     "name": "stdout",
     "output_type": "stream",
     "text": [
      "Iteration 0 ______________________________________________________________________\n",
      "Label Spreading model: 10 labeled & 3990 unlabeled (4000 total)\n",
      "             precision    recall  f1-score   support\n",
      "\n",
      "        0.0       0.97      1.00      0.99      1971\n",
      "        1.0       1.00      0.97      0.99      2019\n",
      "\n",
      "avg / total       0.99      0.99      0.99      3990\n",
      "\n",
      "Confusion matrix\n",
      "[[1966    5]\n",
      " [  53 1966]]\n",
      "Iteration 1 ______________________________________________________________________\n",
      "Label Spreading model: 15 labeled & 3985 unlabeled (4000 total)\n",
      "             precision    recall  f1-score   support\n",
      "\n",
      "        0.0       0.99      1.00      0.99      1969\n",
      "        1.0       1.00      0.99      0.99      2016\n",
      "\n",
      "avg / total       0.99      0.99      0.99      3985\n",
      "\n",
      "Confusion matrix\n",
      "[[1964    5]\n",
      " [  20 1996]]\n",
      "Iteration 2 ______________________________________________________________________\n",
      "Label Spreading model: 20 labeled & 3980 unlabeled (4000 total)\n",
      "             precision    recall  f1-score   support\n",
      "\n",
      "        0.0       0.97      1.00      0.99      1967\n",
      "        1.0       1.00      0.97      0.99      2013\n",
      "\n",
      "avg / total       0.99      0.99      0.99      3980\n",
      "\n",
      "Confusion matrix\n",
      "[[1962    5]\n",
      " [  52 1961]]\n",
      "Iteration 3 ______________________________________________________________________\n",
      "Label Spreading model: 25 labeled & 3975 unlabeled (4000 total)\n",
      "             precision    recall  f1-score   support\n",
      "\n",
      "        0.0       0.97      0.99      0.98      1965\n",
      "        1.0       0.99      0.97      0.98      2010\n",
      "\n",
      "avg / total       0.98      0.98      0.98      3975\n",
      "\n",
      "Confusion matrix\n",
      "[[1950   15]\n",
      " [  51 1959]]\n",
      "Iteration 4 ______________________________________________________________________\n",
      "Label Spreading model: 30 labeled & 3970 unlabeled (4000 total)\n",
      "             precision    recall  f1-score   support\n",
      "\n",
      "        0.0       0.97      0.99      0.98      1963\n",
      "        1.0       0.99      0.97      0.98      2007\n",
      "\n",
      "avg / total       0.98      0.98      0.98      3970\n",
      "\n",
      "Confusion matrix\n",
      "[[1948   15]\n",
      " [  51 1956]]\n"
     ]
    }
   ],
   "source": [
    "X_, y_ = X[:4000], y[:4000]\n",
    "n_total_samples = len(y_)\n",
    "n_labeled_points = 10\n",
    "max_iterations = 5\n",
    "\n",
    "unlabeled_indices = np.arange(n_total_samples)[n_labeled_points:]\n",
    "\n",
    "for i in range(max_iterations):\n",
    "    if len(unlabeled_indices) == 0:\n",
    "        print(\"No unlabeled items left to label.\")\n",
    "        break\n",
    "    y_train = np.copy(y_)\n",
    "    y_train[unlabeled_indices] = -1\n",
    "\n",
    "    lp_model = label_propagation.LabelSpreading(gamma=0.25, max_iter=5)\n",
    "    lp_model.fit(X_, y_train)\n",
    "\n",
    "    predicted_labels = lp_model.transduction_[unlabeled_indices]\n",
    "    true_labels = y_[unlabeled_indices]\n",
    "\n",
    "    cm = confusion_matrix(true_labels, predicted_labels,\n",
    "                          labels=lp_model.classes_)\n",
    "\n",
    "    print(\"Iteration %i %s\" % (i, 70 * \"_\"))\n",
    "    print(\"Label Spreading model: %d labeled & %d unlabeled (%d total)\"\n",
    "          % (n_labeled_points, n_total_samples - n_labeled_points, n_total_samples))\n",
    "\n",
    "    print(classification_report(true_labels, predicted_labels))\n",
    "\n",
    "    print(\"Confusion matrix\")\n",
    "    print(cm)\n",
    "\n",
    "    # compute the entropies of transduced label distributions\n",
    "    pred_entropies = stats.distributions.entropy(\n",
    "        lp_model.label_distributions_.T)\n",
    "\n",
    "    # select up to 5 digit examples that the classifier is most uncertain about\n",
    "    uncertainty_index = np.argsort(pred_entropies)[::-1]\n",
    "    delete_indices = uncertainty_index[\n",
    "        np.in1d(uncertainty_index, unlabeled_indices)][:5]\n",
    "\n",
    "    unlabeled_indices = np.delete(unlabeled_indices, delete_indices)\n",
    "    n_labeled_points += len(delete_indices)"
   ]
  },
  {
   "cell_type": "code",
   "execution_count": 8,
   "metadata": {},
   "outputs": [
    {
     "name": "stdout",
     "output_type": "stream",
     "text": [
      "[[39867   130]\n",
      " [  898 39100]]\n",
      "0.987024789216\n"
     ]
    }
   ],
   "source": [
    "clf = MLPClassifier(hidden_layer_sizes=(3,), activation='relu', solver='adam', \n",
    "                    alpha=0.01, batch_size='auto', learning_rate='constant', \n",
    "                    learning_rate_init=0.001, power_t=0.5, max_iter=2000, shuffle=True, \n",
    "                    random_state=None, tol=0.0001, verbose=False, warm_start=False, \n",
    "                    momentum=0.9, nesterovs_momentum=True, early_stopping=False, \n",
    "                    validation_fraction=0.1, beta_1=0.9, beta_2=0.999, epsilon=1e-08)\n",
    "sys.stdout.flush()\n",
    "train_X, train_y, test_X, test_y = X[:5], y[:5], X[5:], y[5:]\n",
    "clf.fit(X[:5], y[:5])\n",
    "predicted = clf.predict(test_X)\n",
    "print(confusion_matrix(test_y, predicted))\n",
    "print(f1_score(test_y, predicted))"
   ]
  },
  {
   "cell_type": "code",
   "execution_count": 9,
   "metadata": {},
   "outputs": [
    {
     "data": {
      "image/png": "[encoded data removed]",
      "text/plain": [
       "<matplotlib.figure.Figure at 0x2857e2c60b8>"
      ]
     },
     "metadata": {},
     "output_type": "display_data"
    }
   ],
   "source": [
    "xx, yy = np.meshgrid(np.arange(-4, 8, 0.1),\n",
    "                     np.arange(-6, 6, 0.1))\n",
    "Z = clf.predict_proba(np.c_[xx.ravel(), yy.ravel()])[:,1].reshape(xx.shape)\n",
    "plt.contourf(xx, yy, Z, alpha=.8)\n",
    "\n",
    "plt.scatter(test_X[test_y==0,0], test_X[test_y==0,1], label='test neptune')\n",
    "plt.scatter(test_X[test_y==1,0], test_X[test_y==1,1], label='test normal')\n",
    "# plt.scatter(test_X[predicted==0,0], test_X[predicted==0,1], label='predict neptune', alpha=0.2)\n",
    "# plt.scatter(test_X[predicted==1,0], test_X[predicted==1,1], label='predict normal', alpha=0.2)\n",
    "plt.scatter(train_X[train_y==0,0], train_X[train_y==0,1], label='neptune')\n",
    "plt.scatter(train_X[train_y==1,0], train_X[train_y==1,1], label='normal')\n",
    "plt.legend()\n",
    "plt.show()"
   ]
  }
 ],
 "metadata": {
  "kernelspec": {
   "display_name": "Python 3",
   "language": "python",
   "name": "python3"
  },
  "language_info": {
   "codemirror_mode": {
    "name": "ipython",
    "version": 3
   },
   "file_extension": ".py",
   "mimetype": "text/x-python",
   "name": "python",
   "nbconvert_exporter": "python",
   "pygments_lexer": "ipython3",
   "version": "3.5.3"
  }
 },
 "nbformat": 4,
 "nbformat_minor": 2
}
